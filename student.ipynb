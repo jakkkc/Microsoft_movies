{
 "cells": [
  {
   "cell_type": "markdown",
   "metadata": {},
   "source": [
    "## Business Problem:\n",
    "\n",
    "Microsoft has recognized the trend of major companies venturing into original video content creation and wants to join the bandwagon. They've envisioned establishing a new movie studio but lack expertise in this domain.The project investigates the current landscape of successful films at the movie industry. The findings will be pivotal in guiding the head of Microsoft's new movie studio in determining types of films to focus on.\n",
    "\n",
    "### Objectives:\n",
    "\n",
    "### 1: Audience Preferences\n",
    "\n",
    "Understanding audience preferences is crucial. Analysis reveals a strong inclination towards franchises, adaptations, and sequels. Therefore, Microsoft should explore opportunities for acquiring rights to popular franchises or developing sequels to successful films to align with audience preferences and maximize profitability.\n",
    "\n",
    "### 2: Strategic Collaborations\n",
    "\n",
    "Collaboration with established directors, producers, or production companies can significantly enhance the success potential of Microsoft's movie ventures. Data highlights the importance of experienced professionals in driving box office success. Thus, Microsoft should actively seek partnerships or acquisitions to leverage expertise in the movie industry and ensure the quality and success of their productions.\n",
    "\n",
    "### 3: International Expansion and Global Appeal:\n",
    "\n",
    "Recognizing the global nature of the movie industry, Microsoft should prioritize international markets to maximize profits. Tailoring content to resonate with diverse audiences across different regions, languages, and cultures can significantly enhance box office revenues. Investing in localization efforts, international distribution deals, and strategic release timing can ensure the widespread availability and appeal of their films, thereby unlocking new revenue streams and fostering sustainable growth on a global scale.\n",
    "\n",
    "## Business Understanding:\n",
    "\n",
    "This project serves as a strategic compass for Microsoft's foray into the movie industry. By analyzing current trends and audience preferences, we equip the stakeholders with actionable insights necessary for informed decision-making. The project's value lies in providing targeted recommendations tailored to the specific needs of Microsoft's new movie studio, thereby enabling them to navigate the competitive landscape effectively and maximize their chances of success.\n",
    "\n",
    "## Introduction:\n",
    "\n",
    "The project addresses the pressing need for Microsoft to establish its presence in the burgeoning realm of original video content creation. With major competitors already dominating the market, Microsoft aims to leverage data-driven insights to carve out its niche in the industry. The primary stakeholder, the head of Microsoft's new movie studio, will utilize the findings to formulate a strategic roadmap for initiating and sustaining successful movie productions.\n",
    "\n",
    "## Conclusion:\n",
    "\n",
    "In conclusion, the project delivers actionable recommendations derived from comprehensive data analysis, aimed at guiding Microsoft's entry into the movie industry. By aligning productions with prevailing market trends, understanding audience preferences, and fostering strategic collaborations, Microsoft can position itself for long-term success in the dynamic landscape of original content creation. This project not only addresses the immediate challenges faced by the stakeholders but also lays the foundation for future growth and innovation in the movie studio's endeavors."
   ]
  },
  {
   "cell_type": "code",
   "execution_count": 3,
   "metadata": {},
   "outputs": [],
   "source": [
    "# import necessary libraries\n",
    "\n",
    "import numpy as npto \n",
    "import pandas as pd\n",
    "import seaborn as sns\n",
    "import matplotlib.pyplot as plt\n",
    "%matplotlib inline"
   ]
  },
  {
   "attachments": {},
   "cell_type": "markdown",
   "metadata": {},
   "source": [
    "# Box Office Mojo\n",
    "Box office Mojo is known for its extensive collection of box office data, which includes domestic and international revenues, how different studios sell both locally and internayionally.\n",
    "The data from Box Office Mojo is from 2010 to 2018.\n",
    "## Features\n",
    "The main variables here are these data set are domestic and foreign gross, studio, movie title and year. \n",
    "## Goal \n",
    "We will mainly focus on both the domestic and international gross and analyze how Box office Mojo gets to sell both locally and internationally, and why they sell as much as they sell.\n",
    "## Objectives\n",
    "Import and clean the dataset.\n",
    "\n",
    "Explore how Box Office Mojo is doing both internationally and locally.\n",
    "\n",
    "Find out which market generates more money, whether domestic or foreign.\n",
    "\n",
    "Explore the studios Box Office Mojo sell through, and find out the pattern within the studios.\n",
    "\n",
    "Find out if domestic gross affects international gross or vice versa."
   ]
  },
  {
   "cell_type": "markdown",
   "metadata": {},
   "source": [
    "## Box office Mojo EDA\n",
    "### Cleaning function\n",
    "The project uses one main function that imports files from Box Office Mojo, cleans the data and returns the clean data. Incase there is more data from Box Office Mojo, the function accepts filepath as an argument."
   ]
  },
  {
   "cell_type": "code",
   "execution_count": 9,
   "metadata": {},
   "outputs": [],
   "source": [
    "# Function to read filepath as well as clean the file\n",
    "\n",
    "def cleaning(file):\n",
    "# read Box Office Mojo csv\n",
    "    df = pd.read_csv(file)\n",
    "# Changing data type of foreign_gross to numeric\n",
    "    df[\"foreign_gross\"] =(\n",
    "        df[\"foreign_gross\"]\n",
    "        .str.replace(\",\", \"\")\n",
    "        .astype(float)\n",
    "    )\n",
    "# removing outliers from domestic_gross\n",
    "    dom_low, dom_high = df[\"domestic_gross\"].quantile([0.3,0.7])\n",
    "    dom_outliers = df[\"domestic_gross\"].between(dom_low, dom_high)\n",
    "    \n",
    "# removing outliers from domestic_gross\n",
    "    foreign_low, foreign_high = df[\"foreign_gross\"].quantile([0.3,0.7])\n",
    "    foreign_outliers = df[\"foreign_gross\"].between(foreign_low, foreign_high)\n",
    "    \n",
    "# Put everything together\n",
    "    df = (df[dom_outliers])\n",
    "    df = (df.loc[foreign_outliers])\n",
    "\n",
    "#   the function, return clean data \n",
    "    return df;"
   ]
  },
  {
   "cell_type": "markdown",
   "metadata": {},
   "source": [
    "Box Office Mojo's first five records and their features include:"
   ]
  },
  {
   "cell_type": "code",
   "execution_count": 10,
   "metadata": {},
   "outputs": [
    {
     "data": {
      "text/html": [
       "<div>\n",
       "<style scoped>\n",
       "    .dataframe tbody tr th:only-of-type {\n",
       "        vertical-align: middle;\n",
       "    }\n",
       "\n",
       "    .dataframe tbody tr th {\n",
       "        vertical-align: top;\n",
       "    }\n",
       "\n",
       "    .dataframe thead th {\n",
       "        text-align: right;\n",
       "    }\n",
       "</style>\n",
       "<table border=\"1\" class=\"dataframe\">\n",
       "  <thead>\n",
       "    <tr style=\"text-align: right;\">\n",
       "      <th></th>\n",
       "      <th>title</th>\n",
       "      <th>studio</th>\n",
       "      <th>domestic_gross</th>\n",
       "      <th>foreign_gross</th>\n",
       "      <th>year</th>\n",
       "    </tr>\n",
       "  </thead>\n",
       "  <tbody>\n",
       "    <tr>\n",
       "      <th>96</th>\n",
       "      <td>The Ghost Writer</td>\n",
       "      <td>Sum.</td>\n",
       "      <td>15500000.0</td>\n",
       "      <td>44700000.0</td>\n",
       "      <td>2010</td>\n",
       "    </tr>\n",
       "    <tr>\n",
       "      <th>110</th>\n",
       "      <td>Heartbreaker</td>\n",
       "      <td>IFC</td>\n",
       "      <td>504000.0</td>\n",
       "      <td>46900000.0</td>\n",
       "      <td>2010</td>\n",
       "    </tr>\n",
       "    <tr>\n",
       "      <th>114</th>\n",
       "      <td>The Girl Who Kicked the Hornet's Nest</td>\n",
       "      <td>MBox</td>\n",
       "      <td>5200000.0</td>\n",
       "      <td>38300000.0</td>\n",
       "      <td>2010</td>\n",
       "    </tr>\n",
       "    <tr>\n",
       "      <th>115</th>\n",
       "      <td>The Man From Nowhere</td>\n",
       "      <td>CJ</td>\n",
       "      <td>528000.0</td>\n",
       "      <td>42500000.0</td>\n",
       "      <td>2010</td>\n",
       "    </tr>\n",
       "    <tr>\n",
       "      <th>117</th>\n",
       "      <td>My Name is Khan</td>\n",
       "      <td>FoxS</td>\n",
       "      <td>4000000.0</td>\n",
       "      <td>38300000.0</td>\n",
       "      <td>2010</td>\n",
       "    </tr>\n",
       "  </tbody>\n",
       "</table>\n",
       "</div>"
      ],
      "text/plain": [
       "                                     title studio  domestic_gross  \\\n",
       "96                        The Ghost Writer   Sum.      15500000.0   \n",
       "110                           Heartbreaker    IFC        504000.0   \n",
       "114  The Girl Who Kicked the Hornet's Nest   MBox       5200000.0   \n",
       "115                   The Man From Nowhere     CJ        528000.0   \n",
       "117                        My Name is Khan   FoxS       4000000.0   \n",
       "\n",
       "     foreign_gross  year  \n",
       "96      44700000.0  2010  \n",
       "110     46900000.0  2010  \n",
       "114     38300000.0  2010  \n",
       "115     42500000.0  2010  \n",
       "117     38300000.0  2010  "
      ]
     },
     "execution_count": 10,
     "metadata": {},
     "output_type": "execute_result"
    }
   ],
   "source": [
    "# Read file through funtion\n",
    "bom = cleaning(\"data/bom.movie_gross.csv\")\n",
    "bom.head()"
   ]
  },
  {
   "cell_type": "markdown",
   "metadata": {},
   "source": [
    "After cleaning. \n",
    "The dataset contains 349 records after cleaning and 5 columns where 2 of them are floats, 2 are strings, and one integer"
   ]
  },
  {
   "cell_type": "code",
   "execution_count": 11,
   "metadata": {},
   "outputs": [
    {
     "name": "stdout",
     "output_type": "stream",
     "text": [
      "<class 'pandas.core.frame.DataFrame'>\n",
      "Int64Index: 349 entries, 96 to 3242\n",
      "Data columns (total 5 columns):\n",
      " #   Column          Non-Null Count  Dtype  \n",
      "---  ------          --------------  -----  \n",
      " 0   title           349 non-null    object \n",
      " 1   studio          349 non-null    object \n",
      " 2   domestic_gross  349 non-null    float64\n",
      " 3   foreign_gross   349 non-null    float64\n",
      " 4   year            349 non-null    int64  \n",
      "dtypes: float64(2), int64(1), object(2)\n",
      "memory usage: 16.4+ KB\n"
     ]
    }
   ],
   "source": [
    "bom.info()\n",
    "# from this, we can see that the dtype of foreign_gross is an object\n",
    "# we can also see a lot of null values from foreign gross"
   ]
  },
  {
   "cell_type": "code",
   "execution_count": 12,
   "metadata": {
    "scrolled": false
   },
   "outputs": [
    {
     "data": {
      "text/html": [
       "<div>\n",
       "<style scoped>\n",
       "    .dataframe tbody tr th:only-of-type {\n",
       "        vertical-align: middle;\n",
       "    }\n",
       "\n",
       "    .dataframe tbody tr th {\n",
       "        vertical-align: top;\n",
       "    }\n",
       "\n",
       "    .dataframe thead th {\n",
       "        text-align: right;\n",
       "    }\n",
       "</style>\n",
       "<table border=\"1\" class=\"dataframe\">\n",
       "  <thead>\n",
       "    <tr style=\"text-align: right;\">\n",
       "      <th></th>\n",
       "      <th>foreign_gross</th>\n",
       "      <th>domestic_gross</th>\n",
       "    </tr>\n",
       "  </thead>\n",
       "  <tbody>\n",
       "    <tr>\n",
       "      <th>count</th>\n",
       "      <td>349.0</td>\n",
       "      <td>349.0</td>\n",
       "    </tr>\n",
       "    <tr>\n",
       "      <th>mean</th>\n",
       "      <td>18112320.9</td>\n",
       "      <td>6097965.6</td>\n",
       "    </tr>\n",
       "    <tr>\n",
       "      <th>std</th>\n",
       "      <td>12663423.3</td>\n",
       "      <td>5593751.3</td>\n",
       "    </tr>\n",
       "    <tr>\n",
       "      <th>min</th>\n",
       "      <td>5300000.0</td>\n",
       "      <td>195000.0</td>\n",
       "    </tr>\n",
       "    <tr>\n",
       "      <th>25%</th>\n",
       "      <td>8500000.0</td>\n",
       "      <td>1100000.0</td>\n",
       "    </tr>\n",
       "    <tr>\n",
       "      <th>50%</th>\n",
       "      <td>13600000.0</td>\n",
       "      <td>3900000.0</td>\n",
       "    </tr>\n",
       "    <tr>\n",
       "      <th>75%</th>\n",
       "      <td>23200000.0</td>\n",
       "      <td>10700000.0</td>\n",
       "    </tr>\n",
       "    <tr>\n",
       "      <th>max</th>\n",
       "      <td>56100000.0</td>\n",
       "      <td>17700000.0</td>\n",
       "    </tr>\n",
       "  </tbody>\n",
       "</table>\n",
       "</div>"
      ],
      "text/plain": [
       "       foreign_gross  domestic_gross\n",
       "count          349.0           349.0\n",
       "mean      18112320.9       6097965.6\n",
       "std       12663423.3       5593751.3\n",
       "min        5300000.0        195000.0\n",
       "25%        8500000.0       1100000.0\n",
       "50%       13600000.0       3900000.0\n",
       "75%       23200000.0      10700000.0\n",
       "max       56100000.0      17700000.0"
      ]
     },
     "execution_count": 12,
     "metadata": {},
     "output_type": "execute_result"
    }
   ],
   "source": [
    "bom[[\"foreign_gross\", \"domestic_gross\"]].describe().round(1)\n",
    "# clearly we can conclude that there are outliers here."
   ]
  },
  {
   "cell_type": "code",
   "execution_count": 13,
   "metadata": {
    "scrolled": false
   },
   "outputs": [
    {
     "data": {
      "image/png": "[encoded data removed]",
      "text/plain": [
       "<Figure size 432x288 with 1 Axes>"
      ]
     },
     "metadata": {
      "needs_background": "light"
     },
     "output_type": "display_data"
    }
   ],
   "source": [
    "# visually finding outliers in the foreign_gross\n",
    "ax = bom.boxplot(column=\"foreign_gross\", by=\"year\")\n",
    "ax.set_ylabel(\"foreign gross\")\n",
    "ax.set_title(\"Foreign Gross over years\");\n",
    "# There are not so many outliers here compared to domestic_gross"
   ]
  },
  {
   "cell_type": "code",
   "execution_count": 14,
   "metadata": {
    "scrolled": true
   },
   "outputs": [
    {
     "data": {
      "image/png": "[encoded data removed]",
      "text/plain": [
       "<Figure size 432x288 with 1 Axes>"
      ]
     },
     "metadata": {
      "needs_background": "light"
     },
     "output_type": "display_data"
    }
   ],
   "source": [
    "# visually finding outliers in the domestic_gross\n",
    "ax = bom.boxplot(column=\"domestic_gross\", by=\"year\")\n",
    "ax.set_ylabel(\"domestic gross\")\n",
    "ax.set_title(\"Domestic Gross over years\");"
   ]
  },
  {
   "cell_type": "code",
   "execution_count": 15,
   "metadata": {},
   "outputs": [
    {
     "data": {
      "text/plain": [
       "2011    51\n",
       "2010    44\n",
       "2014    42\n",
       "2012    40\n",
       "2013    38\n",
       "2016    37\n",
       "2015    35\n",
       "2018    33\n",
       "2017    29\n",
       "Name: year, dtype: int64"
      ]
     },
     "execution_count": 15,
     "metadata": {},
     "output_type": "execute_result"
    }
   ],
   "source": [
    "bom[\"year\"].value_counts()"
   ]
  },
  {
   "cell_type": "markdown",
   "metadata": {},
   "source": [
    "In 2010, Box office sold a total of 44 movies. In 2011, they sold 51 movies. 40 movies in 2012, 38 in 2013, 42 in 2014, 35 in 2015, 37 in 2016, 29 in 2017 and 33 movies in 2018."
   ]
  },
  {
   "cell_type": "markdown",
   "metadata": {},
   "source": [
    "Since we are mainly interested in the foreign and domestic gross, let's find out how big their difference is."
   ]
  },
  {
   "cell_type": "code",
   "execution_count": 14,
   "metadata": {},
   "outputs": [
    {
     "name": "stdout",
     "output_type": "stream",
     "text": [
      "The difference between the average foreign gross and average domestic gross is:  12014355.29799427\n"
     ]
    },
    {
     "data": {
      "image/png": "[encoded data removed]",
      "text/plain": [
       "<Figure size 720x360 with 1 Axes>"
      ]
     },
     "metadata": {
      "needs_background": "light"
     },
     "output_type": "display_data"
    }
   ],
   "source": [
    "# bar graph showing difference between the average foreign gross and average domestic gross\n",
    "\n",
    "avg_foreign_gross = bom['foreign_gross'].mean()\n",
    "avg_domestic_gross = bom['domestic_gross'].mean()\n",
    "\n",
    "# Data for plotting\n",
    "categories = ['Foreign Gross', 'Domestic Gross']\n",
    "averages = [avg_foreign_gross, avg_domestic_gross]\n",
    "\n",
    "# Create the bar graph\n",
    "plt.figure(figsize=(10, 5))\n",
    "plt.bar(categories, averages, color=['blue', 'green'])\n",
    "\n",
    "# Add titles and labels\n",
    "plt.title('Average Foreign vs Domestic Gross')\n",
    "plt.ylabel('Average Gross ($)')\n",
    "plt.xlabel('Category')\n",
    "\n",
    "print(\"The difference between the average foreign gross and average domestic gross is: \",avg_foreign_gross - avg_domestic_gross)\n",
    "\n",
    "# Show the plot\n",
    "plt.show();"
   ]
  },
  {
   "cell_type": "markdown",
   "metadata": {},
   "source": [
    "The blue bar represents the average foreign gross, which reaches approximately $1.75 billion. This suggests that on average, films earn significantly more from foreign markets compared to domestic ones.\n",
    "The green bar represents the average domestic gross, which is much shorter than the foreign gross bar, indicating a lower average movie sells in domestic markets."
   ]
  },
  {
   "cell_type": "markdown",
   "metadata": {},
   "source": [
    "Clearly there is very big difference on how Box Office Mojo sells internationally versus how their sells are locally.\n",
    "### Recommendation\n",
    "Microsoft should focus more on releasing internationally than domestically. According to Box Office Mojo, they gain exactly $ 12,014,355.3 more in foreign gross than in domestic gross."
   ]
  },
  {
   "cell_type": "code",
   "execution_count": 23,
   "metadata": {},
   "outputs": [
    {
     "data": {
      "text/plain": [
       "78"
      ]
     },
     "execution_count": 23,
     "metadata": {},
     "output_type": "execute_result"
    }
   ],
   "source": [
    "bom[\"studio\"].nunique()"
   ]
  },
  {
   "cell_type": "code",
   "execution_count": 24,
   "metadata": {},
   "outputs": [
    {
     "data": {
      "text/plain": [
       "SPC      35\n",
       "Wein.    25\n",
       "FoxS     18\n",
       "Focus    16\n",
       "FIP      15\n",
       "         ..\n",
       "ParV      1\n",
       "SV        1\n",
       "JBG       1\n",
       "FCW       1\n",
       "Vari.     1\n",
       "Name: studio, Length: 78, dtype: int64"
      ]
     },
     "execution_count": 24,
     "metadata": {},
     "output_type": "execute_result"
    }
   ],
   "source": [
    "bom[\"studio\"].value_counts()"
   ]
  },
  {
   "cell_type": "markdown",
   "metadata": {},
   "source": [
    "Box office Mojo used 78 different studios to sell their movies both locally and internationally."
   ]
  },
  {
   "cell_type": "markdown",
   "metadata": {},
   "source": [
    "How well do these studios do in terms of domestic and foreign gross? The bar graphs below show how the studios perform, and Microsoft can know which studio to patner with in both foreign and local sells"
   ]
  },
  {
   "cell_type": "code",
   "execution_count": 20,
   "metadata": {},
   "outputs": [
    {
     "data": {
      "image/png": "[encoded data removed]",
      "text/plain": [
       "<Figure size 1440x720 with 1 Axes>"
      ]
     },
     "metadata": {
      "needs_background": "light"
     },
     "output_type": "display_data"
    }
   ],
   "source": [
    "plt.figure(figsize=(20, 10))\n",
    "mean_dom_gross_by_stu = (\n",
    "    bom\n",
    "    .groupby(\"studio\")[\"domestic_gross\"]\n",
    "    .mean()\n",
    "    .sort_values()\n",
    ")\n",
    "mean_dom_gross_by_stu.plot(\n",
    "    kind = \"bar\",\n",
    "    xlabel = \"Studio\",\n",
    "    ylabel = \"Domestic Gross\",\n",
    "    title = \"Mean Domestic Gross by Studio\"\n",
    ");"
   ]
  },
  {
   "cell_type": "markdown",
   "metadata": {},
   "source": [
    "In terms of Domestic gross, the following are the best performing studios: Affirm, FD, ParV, CRF, W/Dim Par, and Imax."
   ]
  },
  {
   "cell_type": "code",
   "execution_count": 21,
   "metadata": {},
   "outputs": [
    {
     "data": {
      "image/png": "[encoded data removed]",
      "text/plain": [
       "<Figure size 1440x720 with 1 Axes>"
      ]
     },
     "metadata": {
      "needs_background": "light"
     },
     "output_type": "display_data"
    }
   ],
   "source": [
    "# Which studio has the highest domestic_gross\n",
    "\n",
    "mean_foreign_gross_by_stu = (\n",
    "    bom\n",
    "    .groupby(\"studio\")[\"foreign_gross\"]\n",
    "    .mean()\n",
    "    .sort_values()\n",
    ")\n",
    "plt.figure(figsize=(20, 10))\n",
    "mean_foreign_gross_by_stu.plot(\n",
    "    kind = \"bar\",\n",
    "    xlabel = \"Studio\",\n",
    "    ylabel = \"Foreign Gross\",\n",
    "    title = \"Mean Foreign Gross by Studio\"\n",
    ");"
   ]
  },
  {
   "cell_type": "markdown",
   "metadata": {},
   "source": [
    "In terms of Foreign gross, PMSE leads with over 5 billion dollars in foreign gross. Now, the studios with the highest foreign gross are the ones with the lowest domestic gross and vice versa."
   ]
  },
  {
   "cell_type": "markdown",
   "metadata": {},
   "source": [
    "### Recommendation\n",
    "Microsoft should consider patnering with atleast 10 highest domestic gross generating studios and 10 highest foreign gross generating studio to gain a good advantage both locally and internationally."
   ]
  },
  {
   "cell_type": "code",
   "execution_count": 24,
   "metadata": {},
   "outputs": [
    {
     "data": {
      "text/plain": [
       "-0.01509821990448702"
      ]
     },
     "execution_count": 24,
     "metadata": {},
     "output_type": "execute_result"
    }
   ],
   "source": [
    "# Does domestic gross affect foreign gross?\n",
    "\n",
    "bom[\"foreign_gross\"].corr(bom[\"domestic_gross\"])"
   ]
  },
  {
   "cell_type": "code",
   "execution_count": 25,
   "metadata": {},
   "outputs": [
    {
     "data": {
      "image/png": "[encoded data removed]",
      "text/plain": [
       "<Figure size 432x288 with 1 Axes>"
      ]
     },
     "metadata": {
      "needs_background": "light"
     },
     "output_type": "display_data"
    }
   ],
   "source": [
    "# Let's see this visually\n",
    "\n",
    "plt.scatter(bom[\"domestic_gross\"], bom[\"foreign_gross\"])\n",
    "plt.xlabel(\"Domestic Growth\")\n",
    "plt.ylabel(\"Foreign Growth\")\n",
    "plt.title(\"Relationship between Domestic and Foreign Gross\");"
   ]
  },
  {
   "cell_type": "markdown",
   "metadata": {},
   "source": [
    "Domestic gross doesn't influence foreign gross in any way. \n",
    "### Recommendation\n",
    "Microsoft should focus on growing both global and local sells individually. These two markets are independent from each other."
   ]
  },
  {
   "cell_type": "markdown",
   "metadata": {},
   "source": [
    "## Conclusion\n",
    "In order to do well in making movies, Microsoft needs to think carefully about how it approaches both the worldwide market and the local market. These markets work differently, so Microsoft should have separate plans to make the most money from each one.\n",
    "\n",
    "Working with the best studios in the U.S. and around the world could be a big help. It means they can use the studios' connections and know-how to do better in selling their movies. \n",
    "\n",
    "Plus, Microsoft might want to focus more on selling movies in other countries rather than just in the U.S. This makes sense because they tend to make a lot more money from international sales. By concentrating on this global opportunity, Microsoft could make a lot more profit. This shows how important it is for them to make smart decisions to make their movie studio a big success around the world."
   ]
  },
  {
   "cell_type": "raw",
   "metadata": {},
   "source": []
  },
  {
   "cell_type": "markdown",
   "metadata": {},
   "source": [
    "# The Numbers"
   ]
  },
  {
   "cell_type": "markdown",
   "metadata": {},
   "source": [
    "Using a dataset from “The Numbers” can be advantageous for several reasons:\n",
    "“The Numbers” provides detailed movie financial analysis. \n",
    "This data is valuable for understanding the film industry’s economics.\n",
    "\n",
    "The Numbers offers a wide range of data, including budget, domestic and international grosses, and profitability.\n",
    "It is also known for its accuracy and is often cited in industry analyses.\n",
    "\n",
    "## Goal\n",
    "The Numbers dataset contains financial features which we will use to answer the question. How can we maximize profits in the film industry?\n",
    "\n",
    "\n",
    "## Objectives\n",
    "First, we will import the data. \n",
    "Prepare the data through cleaning(setting the right data types, and dropping outliers.).\n",
    "Then through the available features, we add profits column from the gross and production cost.\n",
    "Analyze how we can maximize profits from the available data.\n",
    "\n",
    "Below is a function(cleaning_2) that imports and cleans all the data from The Numbers, and returns clean data."
   ]
  },
  {
   "cell_type": "code",
   "execution_count": 293,
   "metadata": {},
   "outputs": [],
   "source": [
    "# Function to read The Numbers filepath as well as clean the file\n",
    "\n",
    "def cleaning_2(file):\n",
    "#     read The Numbers csv\n",
    "    df = pd.read_csv(file)\n",
    "    \n",
    "# For easy calculations, we change \"production_budget\", \"domestic_gross\", and \"worldwide_gross\" data type to floats\n",
    "# Production_budget\n",
    "    df[\"production_budget\"] = (\n",
    "        df[\"production_budget\"]\n",
    "        .str.replace(\"$\", \"\")\n",
    "        .str.replace(\",\",\"\")\n",
    "        .astype(float)\n",
    "    )\n",
    "# Domestic_gross\n",
    "    df[\"domestic_gross\"] = (\n",
    "        df[\"domestic_gross\"]\n",
    "        .str.replace(\"$\", \"\")\n",
    "        .str.replace(\",\",\"\")\n",
    "        .astype(float)\n",
    "    )\n",
    "# Worldwid_gross\n",
    "    df[\"worldwide_gross\"] = (\n",
    "        df[\"worldwide_gross\"]\n",
    "        .str.replace(\"$\", \"\")\n",
    "        .str.replace(\",\",\"\")\n",
    "        .astype(float)\n",
    "    )\n",
    "    \n",
    "# Change date from obj to date\n",
    "    df[\"release_date\"] = pd.to_datetime(df[\"release_date\"])\n",
    "    \n",
    "# Remove outliers from worldwide gross\n",
    "    w_low, w_high = df[\"worldwide_gross\"].quantile([0.05,0.6])\n",
    "    w_outliers = df[\"worldwide_gross\"].between(w_low, w_high)\n",
    "    \n",
    "# Remove outliers from prodution budget\n",
    "    p_low, p_high = df[\"production_budget\"].quantile([0.05,0.7])\n",
    "    p_outliers = df[\"production_budget\"].between(p_low, p_high)\n",
    "    \n",
    "# Remove outliers from domestic gross\n",
    "    d_low, d_high = df[\"domestic_gross\"].quantile([0.05,0.6])\n",
    "    d_outliers = df[\"domestic_gross\"].between(d_low, d_high)\n",
    "    \n",
    "# Put everything together\n",
    "    df = (df[d_outliers])\n",
    "    df = (df.loc[p_outliers])\n",
    "    df = (df.loc[w_outliers])\n",
    "    \n",
    "# Add Profits columns\n",
    "# domestic profits\n",
    "    df[\"domestic_profits\"] = df[\"domestic_gross\"] - df[\"production_budget\"]\n",
    "# Worldwide profits\n",
    "    df[\"worldwide_profits\"] = df[\"worldwide_gross\"] - df[\"production_budget\"]\n",
    "    \n",
    "\n",
    "#   the function, return clean data \n",
    "    return df;"
   ]
  },
  {
   "cell_type": "code",
   "execution_count": 294,
   "metadata": {},
   "outputs": [
    {
     "data": {
      "text/html": [
       "<div>\n",
       "<style scoped>\n",
       "    .dataframe tbody tr th:only-of-type {\n",
       "        vertical-align: middle;\n",
       "    }\n",
       "\n",
       "    .dataframe tbody tr th {\n",
       "        vertical-align: top;\n",
       "    }\n",
       "\n",
       "    .dataframe thead th {\n",
       "        text-align: right;\n",
       "    }\n",
       "</style>\n",
       "<table border=\"1\" class=\"dataframe\">\n",
       "  <thead>\n",
       "    <tr style=\"text-align: right;\">\n",
       "      <th></th>\n",
       "      <th>id</th>\n",
       "      <th>release_date</th>\n",
       "      <th>movie</th>\n",
       "      <th>production_budget</th>\n",
       "      <th>domestic_gross</th>\n",
       "      <th>worldwide_gross</th>\n",
       "      <th>domestic_profits</th>\n",
       "      <th>worldwide_profits</th>\n",
       "    </tr>\n",
       "  </thead>\n",
       "  <tbody>\n",
       "    <tr>\n",
       "      <th>1696</th>\n",
       "      <td>97</td>\n",
       "      <td>1980-12-05</td>\n",
       "      <td>Flash Gordon</td>\n",
       "      <td>35000000.0</td>\n",
       "      <td>27107960.0</td>\n",
       "      <td>27107960.0</td>\n",
       "      <td>-7892040.0</td>\n",
       "      <td>-7892040.0</td>\n",
       "    </tr>\n",
       "    <tr>\n",
       "      <th>1698</th>\n",
       "      <td>99</td>\n",
       "      <td>1999-02-12</td>\n",
       "      <td>Blast from the Past</td>\n",
       "      <td>35000000.0</td>\n",
       "      <td>26613620.0</td>\n",
       "      <td>26613620.0</td>\n",
       "      <td>-8386380.0</td>\n",
       "      <td>-8386380.0</td>\n",
       "    </tr>\n",
       "    <tr>\n",
       "      <th>1699</th>\n",
       "      <td>100</td>\n",
       "      <td>2012-10-19</td>\n",
       "      <td>Alex Cross</td>\n",
       "      <td>35000000.0</td>\n",
       "      <td>25888412.0</td>\n",
       "      <td>35426759.0</td>\n",
       "      <td>-9111588.0</td>\n",
       "      <td>426759.0</td>\n",
       "    </tr>\n",
       "    <tr>\n",
       "      <th>1700</th>\n",
       "      <td>1</td>\n",
       "      <td>2004-03-26</td>\n",
       "      <td>Jersey Girl</td>\n",
       "      <td>35000000.0</td>\n",
       "      <td>25266129.0</td>\n",
       "      <td>37066129.0</td>\n",
       "      <td>-9733871.0</td>\n",
       "      <td>2066129.0</td>\n",
       "    </tr>\n",
       "    <tr>\n",
       "      <th>1701</th>\n",
       "      <td>2</td>\n",
       "      <td>1997-11-21</td>\n",
       "      <td>Midnight in the Garden of Good and Evil</td>\n",
       "      <td>35000000.0</td>\n",
       "      <td>25078937.0</td>\n",
       "      <td>25078937.0</td>\n",
       "      <td>-9921063.0</td>\n",
       "      <td>-9921063.0</td>\n",
       "    </tr>\n",
       "  </tbody>\n",
       "</table>\n",
       "</div>"
      ],
      "text/plain": [
       "       id release_date                                    movie  \\\n",
       "1696   97   1980-12-05                             Flash Gordon   \n",
       "1698   99   1999-02-12                      Blast from the Past   \n",
       "1699  100   2012-10-19                               Alex Cross   \n",
       "1700    1   2004-03-26                              Jersey Girl   \n",
       "1701    2   1997-11-21  Midnight in the Garden of Good and Evil   \n",
       "\n",
       "      production_budget  domestic_gross  worldwide_gross  domestic_profits  \\\n",
       "1696         35000000.0      27107960.0       27107960.0        -7892040.0   \n",
       "1698         35000000.0      26613620.0       26613620.0        -8386380.0   \n",
       "1699         35000000.0      25888412.0       35426759.0        -9111588.0   \n",
       "1700         35000000.0      25266129.0       37066129.0        -9733871.0   \n",
       "1701         35000000.0      25078937.0       25078937.0        -9921063.0   \n",
       "\n",
       "      worldwide_profits  \n",
       "1696         -7892040.0  \n",
       "1698         -8386380.0  \n",
       "1699           426759.0  \n",
       "1700          2066129.0  \n",
       "1701         -9921063.0  "
      ]
     },
     "execution_count": 294,
     "metadata": {},
     "output_type": "execute_result"
    }
   ],
   "source": [
    "tn = cleaning_2(\"data/tn.movie_budgets.csv\")\n",
    "tn.head()"
   ]
  },
  {
   "cell_type": "code",
   "execution_count": 295,
   "metadata": {},
   "outputs": [
    {
     "name": "stdout",
     "output_type": "stream",
     "text": [
      "<class 'pandas.core.frame.DataFrame'>\n",
      "Int64Index: 2700 entries, 1696 to 5491\n",
      "Data columns (total 8 columns):\n",
      " #   Column             Non-Null Count  Dtype         \n",
      "---  ------             --------------  -----         \n",
      " 0   id                 2700 non-null   int64         \n",
      " 1   release_date       2700 non-null   datetime64[ns]\n",
      " 2   movie              2700 non-null   object        \n",
      " 3   production_budget  2700 non-null   float64       \n",
      " 4   domestic_gross     2700 non-null   float64       \n",
      " 5   worldwide_gross    2700 non-null   float64       \n",
      " 6   domestic_profits   2700 non-null   float64       \n",
      " 7   worldwide_profits  2700 non-null   float64       \n",
      "dtypes: datetime64[ns](1), float64(5), int64(1), object(1)\n",
      "memory usage: 189.8+ KB\n"
     ]
    }
   ],
   "source": [
    "# before cleaning the dataset,We notice that: \n",
    "# no null values here (This is good),\n",
    "# we have 6 columns and 5782 records.\n",
    "# 5 of these columns are objects while only id is an integer\n",
    "# date is also in object form\n",
    "\n",
    "tn.info()\n",
    "\n",
    "# after cleaning the dataset,We notice that: \n",
    "# again, no null values here (This is good),\n",
    "# we still have 6 columns and 5782 records.\n",
    "# 3 of the columns(\"production_budget\", domestic_gross, worldwide_gross) are floats\n",
    "# and date is in date type"
   ]
  },
  {
   "cell_type": "code",
   "execution_count": 296,
   "metadata": {
    "scrolled": true
   },
   "outputs": [
    {
     "data": {
      "text/html": [
       "<div>\n",
       "<style scoped>\n",
       "    .dataframe tbody tr th:only-of-type {\n",
       "        vertical-align: middle;\n",
       "    }\n",
       "\n",
       "    .dataframe tbody tr th {\n",
       "        vertical-align: top;\n",
       "    }\n",
       "\n",
       "    .dataframe thead th {\n",
       "        text-align: right;\n",
       "    }\n",
       "</style>\n",
       "<table border=\"1\" class=\"dataframe\">\n",
       "  <thead>\n",
       "    <tr style=\"text-align: right;\">\n",
       "      <th></th>\n",
       "      <th>production_budget</th>\n",
       "      <th>domestic_gross</th>\n",
       "      <th>worldwide_gross</th>\n",
       "      <th>domestic_profits</th>\n",
       "      <th>worldwide_profits</th>\n",
       "    </tr>\n",
       "  </thead>\n",
       "  <tbody>\n",
       "    <tr>\n",
       "      <th>count</th>\n",
       "      <td>2700.0</td>\n",
       "      <td>2700.0</td>\n",
       "      <td>2700.0</td>\n",
       "      <td>2700.0</td>\n",
       "      <td>2700.0</td>\n",
       "    </tr>\n",
       "    <tr>\n",
       "      <th>mean</th>\n",
       "      <td>10178752.2</td>\n",
       "      <td>6466674.2</td>\n",
       "      <td>10457448.7</td>\n",
       "      <td>-3712078.0</td>\n",
       "      <td>278696.6</td>\n",
       "    </tr>\n",
       "    <tr>\n",
       "      <th>std</th>\n",
       "      <td>8986319.3</td>\n",
       "      <td>7728234.5</td>\n",
       "      <td>11501300.1</td>\n",
       "      <td>9576772.0</td>\n",
       "      <td>11432731.0</td>\n",
       "    </tr>\n",
       "    <tr>\n",
       "      <th>min</th>\n",
       "      <td>475000.0</td>\n",
       "      <td>0.0</td>\n",
       "      <td>0.0</td>\n",
       "      <td>-35000000.0</td>\n",
       "      <td>-35000000.0</td>\n",
       "    </tr>\n",
       "    <tr>\n",
       "      <th>25%</th>\n",
       "      <td>2900000.0</td>\n",
       "      <td>115874.8</td>\n",
       "      <td>554654.8</td>\n",
       "      <td>-8969114.8</td>\n",
       "      <td>-5528875.0</td>\n",
       "    </tr>\n",
       "    <tr>\n",
       "      <th>50%</th>\n",
       "      <td>7000000.0</td>\n",
       "      <td>2971640.0</td>\n",
       "      <td>6193143.5</td>\n",
       "      <td>-2670160.5</td>\n",
       "      <td>-1000000.0</td>\n",
       "    </tr>\n",
       "    <tr>\n",
       "      <th>75%</th>\n",
       "      <td>15000000.0</td>\n",
       "      <td>11231568.2</td>\n",
       "      <td>17217739.0</td>\n",
       "      <td>574301.0</td>\n",
       "      <td>5830590.0</td>\n",
       "    </tr>\n",
       "    <tr>\n",
       "      <th>max</th>\n",
       "      <td>35000000.0</td>\n",
       "      <td>28444855.0</td>\n",
       "      <td>46263525.0</td>\n",
       "      <td>27262574.0</td>\n",
       "      <td>44293168.0</td>\n",
       "    </tr>\n",
       "  </tbody>\n",
       "</table>\n",
       "</div>"
      ],
      "text/plain": [
       "       production_budget  domestic_gross  worldwide_gross  domestic_profits  \\\n",
       "count             2700.0          2700.0           2700.0            2700.0   \n",
       "mean          10178752.2       6466674.2       10457448.7        -3712078.0   \n",
       "std            8986319.3       7728234.5       11501300.1         9576772.0   \n",
       "min             475000.0             0.0              0.0       -35000000.0   \n",
       "25%            2900000.0        115874.8         554654.8        -8969114.8   \n",
       "50%            7000000.0       2971640.0        6193143.5        -2670160.5   \n",
       "75%           15000000.0      11231568.2       17217739.0          574301.0   \n",
       "max           35000000.0      28444855.0       46263525.0        27262574.0   \n",
       "\n",
       "       worldwide_profits  \n",
       "count             2700.0  \n",
       "mean            278696.6  \n",
       "std           11432731.0  \n",
       "min          -35000000.0  \n",
       "25%           -5528875.0  \n",
       "50%           -1000000.0  \n",
       "75%            5830590.0  \n",
       "max           44293168.0  "
      ]
     },
     "execution_count": 296,
     "metadata": {},
     "output_type": "execute_result"
    }
   ],
   "source": [
    "tn[[\"production_budget\", \"domestic_gross\", \"worldwide_gross\", \"domestic_profits\", \"worldwide_profits\"]].describe().round(1)"
   ]
  },
  {
   "cell_type": "code",
   "execution_count": 297,
   "metadata": {
    "scrolled": true
   },
   "outputs": [
    {
     "data": {
      "image/png": "[encoded data removed]",
      "text/plain": [
       "<Figure size 576x360 with 1 Axes>"
      ]
     },
     "metadata": {
      "needs_background": "light"
     },
     "output_type": "display_data"
    }
   ],
   "source": [
    "# worldwide gross boxplot\n",
    "plt.figure(figsize=(8, 5))\n",
    "sns.boxplot(x=tn['worldwide_gross'], color='skyblue')\n",
    "plt.title('Worldwide gross')\n",
    "plt.xlabel('Worldwide gross')\n",
    "plt.ylabel('Frequency')\n",
    "plt.show();"
   ]
  },
  {
   "cell_type": "code",
   "execution_count": 298,
   "metadata": {},
   "outputs": [
    {
     "data": {
      "image/png": "[encoded data removed]",
      "text/plain": [
       "<Figure size 576x432 with 1 Axes>"
      ]
     },
     "metadata": {
      "needs_background": "light"
     },
     "output_type": "display_data"
    }
   ],
   "source": [
    "# production budget boxplot\n",
    "plt.figure(figsize=(8, 6))\n",
    "sns.boxplot(x=tn['production_budget'], color='skyblue')\n",
    "plt.title('Production Budget')\n",
    "plt.xlabel('Production Budget')\n",
    "plt.ylabel('Frequency')\n",
    "plt.show();"
   ]
  },
  {
   "cell_type": "code",
   "execution_count": 299,
   "metadata": {},
   "outputs": [
    {
     "data": {
      "image/png": "[encoded data removed]",
      "text/plain": [
       "<Figure size 576x432 with 1 Axes>"
      ]
     },
     "metadata": {
      "needs_background": "light"
     },
     "output_type": "display_data"
    }
   ],
   "source": [
    "# Domestic gross boxplot\n",
    "plt.figure(figsize=(8, 6))\n",
    "sns.boxplot(x=tn['domestic_gross'], color='skyblue')\n",
    "plt.title('Domestic gross')\n",
    "plt.xlabel('Domestic gross')\n",
    "plt.ylabel('Frequency')\n",
    "plt.show();"
   ]
  },
  {
   "cell_type": "markdown",
   "metadata": {},
   "source": [
    "#### Profits\n",
    "We do not have profits columns in the dataset, but we can add them through getting difference between gross and production budget.\n",
    "For domestic profits,\"production budget\" will be subtracted from \"domestic gross\"."
   ]
  },
  {
   "cell_type": "code",
   "execution_count": 300,
   "metadata": {},
   "outputs": [
    {
     "data": {
      "text/html": [
       "<div>\n",
       "<style scoped>\n",
       "    .dataframe tbody tr th:only-of-type {\n",
       "        vertical-align: middle;\n",
       "    }\n",
       "\n",
       "    .dataframe tbody tr th {\n",
       "        vertical-align: top;\n",
       "    }\n",
       "\n",
       "    .dataframe thead th {\n",
       "        text-align: right;\n",
       "    }\n",
       "</style>\n",
       "<table border=\"1\" class=\"dataframe\">\n",
       "  <thead>\n",
       "    <tr style=\"text-align: right;\">\n",
       "      <th></th>\n",
       "      <th>id</th>\n",
       "      <th>release_date</th>\n",
       "      <th>movie</th>\n",
       "      <th>production_budget</th>\n",
       "      <th>domestic_gross</th>\n",
       "      <th>worldwide_gross</th>\n",
       "      <th>domestic_profits</th>\n",
       "      <th>worldwide_profits</th>\n",
       "    </tr>\n",
       "  </thead>\n",
       "  <tbody>\n",
       "    <tr>\n",
       "      <th>1696</th>\n",
       "      <td>97</td>\n",
       "      <td>1980-12-05</td>\n",
       "      <td>Flash Gordon</td>\n",
       "      <td>35000000.0</td>\n",
       "      <td>27107960.0</td>\n",
       "      <td>27107960.0</td>\n",
       "      <td>-7892040.0</td>\n",
       "      <td>-7892040.0</td>\n",
       "    </tr>\n",
       "    <tr>\n",
       "      <th>1698</th>\n",
       "      <td>99</td>\n",
       "      <td>1999-02-12</td>\n",
       "      <td>Blast from the Past</td>\n",
       "      <td>35000000.0</td>\n",
       "      <td>26613620.0</td>\n",
       "      <td>26613620.0</td>\n",
       "      <td>-8386380.0</td>\n",
       "      <td>-8386380.0</td>\n",
       "    </tr>\n",
       "    <tr>\n",
       "      <th>1699</th>\n",
       "      <td>100</td>\n",
       "      <td>2012-10-19</td>\n",
       "      <td>Alex Cross</td>\n",
       "      <td>35000000.0</td>\n",
       "      <td>25888412.0</td>\n",
       "      <td>35426759.0</td>\n",
       "      <td>-9111588.0</td>\n",
       "      <td>426759.0</td>\n",
       "    </tr>\n",
       "    <tr>\n",
       "      <th>1700</th>\n",
       "      <td>1</td>\n",
       "      <td>2004-03-26</td>\n",
       "      <td>Jersey Girl</td>\n",
       "      <td>35000000.0</td>\n",
       "      <td>25266129.0</td>\n",
       "      <td>37066129.0</td>\n",
       "      <td>-9733871.0</td>\n",
       "      <td>2066129.0</td>\n",
       "    </tr>\n",
       "    <tr>\n",
       "      <th>1701</th>\n",
       "      <td>2</td>\n",
       "      <td>1997-11-21</td>\n",
       "      <td>Midnight in the Garden of Good and Evil</td>\n",
       "      <td>35000000.0</td>\n",
       "      <td>25078937.0</td>\n",
       "      <td>25078937.0</td>\n",
       "      <td>-9921063.0</td>\n",
       "      <td>-9921063.0</td>\n",
       "    </tr>\n",
       "  </tbody>\n",
       "</table>\n",
       "</div>"
      ],
      "text/plain": [
       "       id release_date                                    movie  \\\n",
       "1696   97   1980-12-05                             Flash Gordon   \n",
       "1698   99   1999-02-12                      Blast from the Past   \n",
       "1699  100   2012-10-19                               Alex Cross   \n",
       "1700    1   2004-03-26                              Jersey Girl   \n",
       "1701    2   1997-11-21  Midnight in the Garden of Good and Evil   \n",
       "\n",
       "      production_budget  domestic_gross  worldwide_gross  domestic_profits  \\\n",
       "1696         35000000.0      27107960.0       27107960.0        -7892040.0   \n",
       "1698         35000000.0      26613620.0       26613620.0        -8386380.0   \n",
       "1699         35000000.0      25888412.0       35426759.0        -9111588.0   \n",
       "1700         35000000.0      25266129.0       37066129.0        -9733871.0   \n",
       "1701         35000000.0      25078937.0       25078937.0        -9921063.0   \n",
       "\n",
       "      worldwide_profits  \n",
       "1696         -7892040.0  \n",
       "1698         -8386380.0  \n",
       "1699           426759.0  \n",
       "1700          2066129.0  \n",
       "1701         -9921063.0  "
      ]
     },
     "execution_count": 300,
     "metadata": {},
     "output_type": "execute_result"
    }
   ],
   "source": [
    "# Let's add profit columns to understand the profits and loses of the business\n",
    "tn[\"domestic_profits\"] = tn[\"domestic_gross\"] - tn[\"production_budget\"]\n",
    "tn.head()"
   ]
  },
  {
   "cell_type": "markdown",
   "metadata": {},
   "source": [
    "From the available features \"worldwide gross\" and \"production budget\" we can create a worldwide profits by getting difference of the two features"
   ]
  },
  {
   "cell_type": "code",
   "execution_count": 301,
   "metadata": {},
   "outputs": [
    {
     "data": {
      "text/html": [
       "<div>\n",
       "<style scoped>\n",
       "    .dataframe tbody tr th:only-of-type {\n",
       "        vertical-align: middle;\n",
       "    }\n",
       "\n",
       "    .dataframe tbody tr th {\n",
       "        vertical-align: top;\n",
       "    }\n",
       "\n",
       "    .dataframe thead th {\n",
       "        text-align: right;\n",
       "    }\n",
       "</style>\n",
       "<table border=\"1\" class=\"dataframe\">\n",
       "  <thead>\n",
       "    <tr style=\"text-align: right;\">\n",
       "      <th></th>\n",
       "      <th>id</th>\n",
       "      <th>release_date</th>\n",
       "      <th>movie</th>\n",
       "      <th>production_budget</th>\n",
       "      <th>domestic_gross</th>\n",
       "      <th>worldwide_gross</th>\n",
       "      <th>domestic_profits</th>\n",
       "      <th>worldwide_profits</th>\n",
       "    </tr>\n",
       "  </thead>\n",
       "  <tbody>\n",
       "    <tr>\n",
       "      <th>1696</th>\n",
       "      <td>97</td>\n",
       "      <td>1980-12-05</td>\n",
       "      <td>Flash Gordon</td>\n",
       "      <td>35000000.0</td>\n",
       "      <td>27107960.0</td>\n",
       "      <td>27107960.0</td>\n",
       "      <td>-7892040.0</td>\n",
       "      <td>-7892040.0</td>\n",
       "    </tr>\n",
       "    <tr>\n",
       "      <th>1698</th>\n",
       "      <td>99</td>\n",
       "      <td>1999-02-12</td>\n",
       "      <td>Blast from the Past</td>\n",
       "      <td>35000000.0</td>\n",
       "      <td>26613620.0</td>\n",
       "      <td>26613620.0</td>\n",
       "      <td>-8386380.0</td>\n",
       "      <td>-8386380.0</td>\n",
       "    </tr>\n",
       "    <tr>\n",
       "      <th>1699</th>\n",
       "      <td>100</td>\n",
       "      <td>2012-10-19</td>\n",
       "      <td>Alex Cross</td>\n",
       "      <td>35000000.0</td>\n",
       "      <td>25888412.0</td>\n",
       "      <td>35426759.0</td>\n",
       "      <td>-9111588.0</td>\n",
       "      <td>426759.0</td>\n",
       "    </tr>\n",
       "    <tr>\n",
       "      <th>1700</th>\n",
       "      <td>1</td>\n",
       "      <td>2004-03-26</td>\n",
       "      <td>Jersey Girl</td>\n",
       "      <td>35000000.0</td>\n",
       "      <td>25266129.0</td>\n",
       "      <td>37066129.0</td>\n",
       "      <td>-9733871.0</td>\n",
       "      <td>2066129.0</td>\n",
       "    </tr>\n",
       "    <tr>\n",
       "      <th>1701</th>\n",
       "      <td>2</td>\n",
       "      <td>1997-11-21</td>\n",
       "      <td>Midnight in the Garden of Good and Evil</td>\n",
       "      <td>35000000.0</td>\n",
       "      <td>25078937.0</td>\n",
       "      <td>25078937.0</td>\n",
       "      <td>-9921063.0</td>\n",
       "      <td>-9921063.0</td>\n",
       "    </tr>\n",
       "  </tbody>\n",
       "</table>\n",
       "</div>"
      ],
      "text/plain": [
       "       id release_date                                    movie  \\\n",
       "1696   97   1980-12-05                             Flash Gordon   \n",
       "1698   99   1999-02-12                      Blast from the Past   \n",
       "1699  100   2012-10-19                               Alex Cross   \n",
       "1700    1   2004-03-26                              Jersey Girl   \n",
       "1701    2   1997-11-21  Midnight in the Garden of Good and Evil   \n",
       "\n",
       "      production_budget  domestic_gross  worldwide_gross  domestic_profits  \\\n",
       "1696         35000000.0      27107960.0       27107960.0        -7892040.0   \n",
       "1698         35000000.0      26613620.0       26613620.0        -8386380.0   \n",
       "1699         35000000.0      25888412.0       35426759.0        -9111588.0   \n",
       "1700         35000000.0      25266129.0       37066129.0        -9733871.0   \n",
       "1701         35000000.0      25078937.0       25078937.0        -9921063.0   \n",
       "\n",
       "      worldwide_profits  \n",
       "1696         -7892040.0  \n",
       "1698         -8386380.0  \n",
       "1699           426759.0  \n",
       "1700          2066129.0  \n",
       "1701         -9921063.0  "
      ]
     },
     "execution_count": 301,
     "metadata": {},
     "output_type": "execute_result"
    }
   ],
   "source": [
    "tn[\"worldwide_profits\"] = tn[\"worldwide_gross\"] - tn[\"production_budget\"]\n",
    "tn.head()"
   ]
  },
  {
   "cell_type": "markdown",
   "metadata": {},
   "source": [
    "From the release date, we create a column \"year\" which will be used to plot profits and costs over the years"
   ]
  },
  {
   "cell_type": "code",
   "execution_count": 302,
   "metadata": {},
   "outputs": [
    {
     "data": {
      "text/html": [
       "<div>\n",
       "<style scoped>\n",
       "    .dataframe tbody tr th:only-of-type {\n",
       "        vertical-align: middle;\n",
       "    }\n",
       "\n",
       "    .dataframe tbody tr th {\n",
       "        vertical-align: top;\n",
       "    }\n",
       "\n",
       "    .dataframe thead th {\n",
       "        text-align: right;\n",
       "    }\n",
       "</style>\n",
       "<table border=\"1\" class=\"dataframe\">\n",
       "  <thead>\n",
       "    <tr style=\"text-align: right;\">\n",
       "      <th></th>\n",
       "      <th>id</th>\n",
       "      <th>release_date</th>\n",
       "      <th>movie</th>\n",
       "      <th>production_budget</th>\n",
       "      <th>domestic_gross</th>\n",
       "      <th>worldwide_gross</th>\n",
       "      <th>domestic_profits</th>\n",
       "      <th>worldwide_profits</th>\n",
       "      <th>year</th>\n",
       "    </tr>\n",
       "  </thead>\n",
       "  <tbody>\n",
       "    <tr>\n",
       "      <th>1696</th>\n",
       "      <td>97</td>\n",
       "      <td>1980-12-05</td>\n",
       "      <td>Flash Gordon</td>\n",
       "      <td>35000000.0</td>\n",
       "      <td>27107960.0</td>\n",
       "      <td>27107960.0</td>\n",
       "      <td>-7892040.0</td>\n",
       "      <td>-7892040.0</td>\n",
       "      <td>1980</td>\n",
       "    </tr>\n",
       "    <tr>\n",
       "      <th>1698</th>\n",
       "      <td>99</td>\n",
       "      <td>1999-02-12</td>\n",
       "      <td>Blast from the Past</td>\n",
       "      <td>35000000.0</td>\n",
       "      <td>26613620.0</td>\n",
       "      <td>26613620.0</td>\n",
       "      <td>-8386380.0</td>\n",
       "      <td>-8386380.0</td>\n",
       "      <td>1999</td>\n",
       "    </tr>\n",
       "    <tr>\n",
       "      <th>1699</th>\n",
       "      <td>100</td>\n",
       "      <td>2012-10-19</td>\n",
       "      <td>Alex Cross</td>\n",
       "      <td>35000000.0</td>\n",
       "      <td>25888412.0</td>\n",
       "      <td>35426759.0</td>\n",
       "      <td>-9111588.0</td>\n",
       "      <td>426759.0</td>\n",
       "      <td>2012</td>\n",
       "    </tr>\n",
       "    <tr>\n",
       "      <th>1700</th>\n",
       "      <td>1</td>\n",
       "      <td>2004-03-26</td>\n",
       "      <td>Jersey Girl</td>\n",
       "      <td>35000000.0</td>\n",
       "      <td>25266129.0</td>\n",
       "      <td>37066129.0</td>\n",
       "      <td>-9733871.0</td>\n",
       "      <td>2066129.0</td>\n",
       "      <td>2004</td>\n",
       "    </tr>\n",
       "    <tr>\n",
       "      <th>1701</th>\n",
       "      <td>2</td>\n",
       "      <td>1997-11-21</td>\n",
       "      <td>Midnight in the Garden of Good and Evil</td>\n",
       "      <td>35000000.0</td>\n",
       "      <td>25078937.0</td>\n",
       "      <td>25078937.0</td>\n",
       "      <td>-9921063.0</td>\n",
       "      <td>-9921063.0</td>\n",
       "      <td>1997</td>\n",
       "    </tr>\n",
       "  </tbody>\n",
       "</table>\n",
       "</div>"
      ],
      "text/plain": [
       "       id release_date                                    movie  \\\n",
       "1696   97   1980-12-05                             Flash Gordon   \n",
       "1698   99   1999-02-12                      Blast from the Past   \n",
       "1699  100   2012-10-19                               Alex Cross   \n",
       "1700    1   2004-03-26                              Jersey Girl   \n",
       "1701    2   1997-11-21  Midnight in the Garden of Good and Evil   \n",
       "\n",
       "      production_budget  domestic_gross  worldwide_gross  domestic_profits  \\\n",
       "1696         35000000.0      27107960.0       27107960.0        -7892040.0   \n",
       "1698         35000000.0      26613620.0       26613620.0        -8386380.0   \n",
       "1699         35000000.0      25888412.0       35426759.0        -9111588.0   \n",
       "1700         35000000.0      25266129.0       37066129.0        -9733871.0   \n",
       "1701         35000000.0      25078937.0       25078937.0        -9921063.0   \n",
       "\n",
       "      worldwide_profits  year  \n",
       "1696         -7892040.0  1980  \n",
       "1698         -8386380.0  1999  \n",
       "1699           426759.0  2012  \n",
       "1700          2066129.0  2004  \n",
       "1701         -9921063.0  1997  "
      ]
     },
     "execution_count": 302,
     "metadata": {},
     "output_type": "execute_result"
    }
   ],
   "source": [
    "tn[\"year\"] = tn[\"release_date\"].dt.year\n",
    "tn.head()"
   ]
  },
  {
   "cell_type": "markdown",
   "metadata": {},
   "source": [
    "Does Production Cost affect gross and Profits in both domestic and worldwide markets?\n"
   ]
  },
  {
   "cell_type": "code",
   "execution_count": 303,
   "metadata": {},
   "outputs": [
    {
     "data": {
      "image/png": "[encoded data removed]",
      "text/plain": [
       "<Figure size 936x432 with 3 Axes>"
      ]
     },
     "metadata": {
      "needs_background": "light"
     },
     "output_type": "display_data"
    }
   ],
   "source": [
    "fig, (ax2, ax3, ax1) = plt.subplots(1, 3, figsize=(13, 6))\n",
    "\n",
    "# Plot Production Budget\n",
    "ax2.plot(tn[\"year\"], tn[\"production_budget\"], marker='o', color='r', label=\"Production Budget\")\n",
    "ax2.set_xlabel(\"Year\")\n",
    "ax2.set_ylabel(\"Production Budget ($)\")\n",
    "ax2.set_title(\"Cost of Production Over Years\")\n",
    "ax2.grid(True)\n",
    "ax2.legend()\n",
    "\n",
    "# Plot Worldwide Profits\n",
    "ax1.plot(tn[\"year\"], tn[\"worldwide_profits\"], marker='o', color='b', label=\"Worldwide Profits\")\n",
    "ax1.set_xlabel(\"Year\")\n",
    "ax1.set_ylabel(\"Worldwide Profits ($)\")\n",
    "ax1.set_title(\"Worldwide Profits Over Years\")\n",
    "ax1.grid(True)\n",
    "ax1.legend()\n",
    "\n",
    "# Plot Domestic Profits\n",
    "ax3.plot(tn[\"year\"], tn[\"domestic_profits\"], marker='o', color='g', label=\"Domestic Profits\")\n",
    "ax3.set_xlabel(\"Year\")\n",
    "ax3.set_ylabel(\"Domestic Profits ($)\")\n",
    "ax3.set_title(\"Domestic Profits Over Years\")\n",
    "ax3.grid(True)\n",
    "ax3.legend()\n",
    "\n",
    "# Adjust spacing between subplots\n",
    "plt.tight_layout()\n",
    "\n",
    "# Show the combined plot\n",
    "plt.show();"
   ]
  },
  {
   "cell_type": "markdown",
   "metadata": {},
   "source": [
    "From 1900's to 2000's, there has been consistent increase in production budget, as well as the amount of movies sold in a year. From the plots above, we can conclude that increase in cost of production equals increase in both domestic and worldwide gross, but the same is not true when dealing with profits. \n",
    "Increase in Production Budget equals increase in both profits and loses in both domestic and worldwide markets.\n"
   ]
  },
  {
   "cell_type": "markdown",
   "metadata": {},
   "source": [
    "## Recommendation\n",
    "The cost of production and the frequency of movie releases significantly impact both domestic and worldwide gross earnings. This dynamic presents a high-risk, high-reward scenario for Microsoft in the movie industry. While investing heavily in movie production offers the potential for substantial profits, it also entails the risk of significant losses. \n",
    "\n",
    "Therefore, Microsoft must carefully balance its investment in movie production, considering the potential rewards against the associated risks. By strategically managing production costs and optimizing the number of movies released annually, Microsoft can maximize its chances of success while mitigating the possibility of financial setbacks. This approach acknowledges the inherent uncertainties of the movie business while positioning Microsoft to capitalize on lucrative opportunities in the ever-evolving entertainment landscape."
   ]
  },
  {
   "cell_type": "markdown",
   "metadata": {},
   "source": [
    "# The Movie DB\n",
    "The movie DB's dataset provides popularity features like how popular a movie is and how many votes the movie got. It also shows the original language of the movies.\n",
    "\n",
    "## Goal\n",
    "Analysis to get how and why movies get so popular\n",
    "Analysis to find which original movie language sells the highest.\n",
    "\n",
    "## Objectives\n",
    "Create a function to import data and clean it.\n",
    "\n",
    "Find out which movie language sells the highest.\n",
    "\n",
    "Check if votes affect popularity"
   ]
  },
  {
   "cell_type": "code",
   "execution_count": 343,
   "metadata": {},
   "outputs": [],
   "source": [
    "def cleaning_3(file):\n",
    "    \n",
    "# read the moviedb csv\n",
    "    df = pd.read_csv(file)\n",
    "\n",
    "# changing \"release_date\" from obj to datetime type\n",
    "    df[\"release_date\"] = pd.to_datetime(df[\"release_date\"])\n",
    "    \n",
    "# removing outliers from the numerical features\n",
    "# popularity\n",
    "    pl, ph = df[\"popularity\"].quantile([0.05, 0.65])\n",
    "    p_out = df[\"popularity\"].between(pl, ph)\n",
    "    \n",
    "# average vote\n",
    "    a_low, a_high = df[\"vote_average\"].quantile([0.3, 0.8])\n",
    "    a_outlier = df[\"vote_average\"].between(a_low, a_high)\n",
    "    \n",
    "# vote count\n",
    "    v_low, v_high = df[\"vote_count\"].quantile([0.005, 0.65])\n",
    "    v_outlier = df[\"vote_count\"].between(v_low, v_high)\n",
    "\n",
    "# put them together\n",
    "    df = df[p_out]\n",
    "    df = (df.loc[a_outlier])\n",
    "    df = (df.loc[v_outlier])\n",
    "    \n",
    "# add a column \"year\" from release_date\n",
    "    df[\"year\"] = df[\"release_date\"].dt.year\n",
    "    \n",
    "# return the cleaned dataset\n",
    "    return df"
   ]
  },
  {
   "cell_type": "code",
   "execution_count": 344,
   "metadata": {},
   "outputs": [
    {
     "data": {
      "text/html": [
       "<div>\n",
       "<style scoped>\n",
       "    .dataframe tbody tr th:only-of-type {\n",
       "        vertical-align: middle;\n",
       "    }\n",
       "\n",
       "    .dataframe tbody tr th {\n",
       "        vertical-align: top;\n",
       "    }\n",
       "\n",
       "    .dataframe thead th {\n",
       "        text-align: right;\n",
       "    }\n",
       "</style>\n",
       "<table border=\"1\" class=\"dataframe\">\n",
       "  <thead>\n",
       "    <tr style=\"text-align: right;\">\n",
       "      <th></th>\n",
       "      <th>Unnamed: 0</th>\n",
       "      <th>genre_ids</th>\n",
       "      <th>id</th>\n",
       "      <th>original_language</th>\n",
       "      <th>original_title</th>\n",
       "      <th>popularity</th>\n",
       "      <th>release_date</th>\n",
       "      <th>title</th>\n",
       "      <th>vote_average</th>\n",
       "      <th>vote_count</th>\n",
       "      <th>year</th>\n",
       "    </tr>\n",
       "  </thead>\n",
       "  <tbody>\n",
       "    <tr>\n",
       "      <th>784</th>\n",
       "      <td>784</td>\n",
       "      <td>[28, 12, 18, 53]</td>\n",
       "      <td>32005</td>\n",
       "      <td>en</td>\n",
       "      <td>Breaking Point</td>\n",
       "      <td>2.225</td>\n",
       "      <td>2009-12-04</td>\n",
       "      <td>Breaking Point</td>\n",
       "      <td>5.6</td>\n",
       "      <td>8</td>\n",
       "      <td>2009</td>\n",
       "    </tr>\n",
       "    <tr>\n",
       "      <th>785</th>\n",
       "      <td>785</td>\n",
       "      <td>[35]</td>\n",
       "      <td>45920</td>\n",
       "      <td>en</td>\n",
       "      <td>Ollie Klublershturf vs. the Nazis</td>\n",
       "      <td>2.222</td>\n",
       "      <td>2010-09-14</td>\n",
       "      <td>Ollie Klublershturf vs. the Nazis</td>\n",
       "      <td>5.9</td>\n",
       "      <td>7</td>\n",
       "      <td>2010</td>\n",
       "    </tr>\n",
       "    <tr>\n",
       "      <th>789</th>\n",
       "      <td>789</td>\n",
       "      <td>[10752, 18]</td>\n",
       "      <td>57602</td>\n",
       "      <td>fr</td>\n",
       "      <td>Un homme qui crie</td>\n",
       "      <td>2.211</td>\n",
       "      <td>2010-09-28</td>\n",
       "      <td>A Screaming Man</td>\n",
       "      <td>6.1</td>\n",
       "      <td>10</td>\n",
       "      <td>2010</td>\n",
       "    </tr>\n",
       "    <tr>\n",
       "      <th>794</th>\n",
       "      <td>794</td>\n",
       "      <td>[35]</td>\n",
       "      <td>63160</td>\n",
       "      <td>en</td>\n",
       "      <td>Successful Alcoholics</td>\n",
       "      <td>2.203</td>\n",
       "      <td>2010-01-22</td>\n",
       "      <td>Successful Alcoholics</td>\n",
       "      <td>6.1</td>\n",
       "      <td>7</td>\n",
       "      <td>2010</td>\n",
       "    </tr>\n",
       "    <tr>\n",
       "      <th>795</th>\n",
       "      <td>795</td>\n",
       "      <td>[99]</td>\n",
       "      <td>62325</td>\n",
       "      <td>en</td>\n",
       "      <td>Bhutto</td>\n",
       "      <td>2.198</td>\n",
       "      <td>2010-12-03</td>\n",
       "      <td>Bhutto</td>\n",
       "      <td>5.4</td>\n",
       "      <td>6</td>\n",
       "      <td>2010</td>\n",
       "    </tr>\n",
       "  </tbody>\n",
       "</table>\n",
       "</div>"
      ],
      "text/plain": [
       "     Unnamed: 0         genre_ids     id original_language  \\\n",
       "784         784  [28, 12, 18, 53]  32005                en   \n",
       "785         785              [35]  45920                en   \n",
       "789         789       [10752, 18]  57602                fr   \n",
       "794         794              [35]  63160                en   \n",
       "795         795              [99]  62325                en   \n",
       "\n",
       "                        original_title  popularity release_date  \\\n",
       "784                     Breaking Point       2.225   2009-12-04   \n",
       "785  Ollie Klublershturf vs. the Nazis       2.222   2010-09-14   \n",
       "789                  Un homme qui crie       2.211   2010-09-28   \n",
       "794              Successful Alcoholics       2.203   2010-01-22   \n",
       "795                             Bhutto       2.198   2010-12-03   \n",
       "\n",
       "                                 title  vote_average  vote_count  year  \n",
       "784                     Breaking Point           5.6           8  2009  \n",
       "785  Ollie Klublershturf vs. the Nazis           5.9           7  2010  \n",
       "789                    A Screaming Man           6.1          10  2010  \n",
       "794              Successful Alcoholics           6.1           7  2010  \n",
       "795                             Bhutto           5.4           6  2010  "
      ]
     },
     "execution_count": 344,
     "metadata": {},
     "output_type": "execute_result"
    }
   ],
   "source": [
    "tmdb = cleaning_3(\"data/tmdb.movies.csv\")\n",
    "tmdb.head()"
   ]
  },
  {
   "cell_type": "code",
   "execution_count": 345,
   "metadata": {},
   "outputs": [
    {
     "name": "stdout",
     "output_type": "stream",
     "text": [
      "<class 'pandas.core.frame.DataFrame'>\n",
      "Int64Index: 6424 entries, 784 to 26438\n",
      "Data columns (total 11 columns):\n",
      " #   Column             Non-Null Count  Dtype         \n",
      "---  ------             --------------  -----         \n",
      " 0   Unnamed: 0         6424 non-null   int64         \n",
      " 1   genre_ids          6424 non-null   object        \n",
      " 2   id                 6424 non-null   int64         \n",
      " 3   original_language  6424 non-null   object        \n",
      " 4   original_title     6424 non-null   object        \n",
      " 5   popularity         6424 non-null   float64       \n",
      " 6   release_date       6424 non-null   datetime64[ns]\n",
      " 7   title              6424 non-null   object        \n",
      " 8   vote_average       6424 non-null   float64       \n",
      " 9   vote_count         6424 non-null   int64         \n",
      " 10  year               6424 non-null   int64         \n",
      "dtypes: datetime64[ns](1), float64(2), int64(4), object(4)\n",
      "memory usage: 602.2+ KB\n"
     ]
    }
   ],
   "source": [
    "# before cleaning, the dataset contains:\n",
    "# 26517 records and 10 feature(3 integers, 5 objects, and 2 floating values)\n",
    "# no null value(this is good),\n",
    "# release_date is an object\n",
    "\n",
    "tmdb.info()\n",
    "# after cleaning, the dataset contains:\n",
    "# release_date is in datetime data type"
   ]
  },
  {
   "cell_type": "code",
   "execution_count": 346,
   "metadata": {},
   "outputs": [
    {
     "data": {
      "text/html": [
       "<div>\n",
       "<style scoped>\n",
       "    .dataframe tbody tr th:only-of-type {\n",
       "        vertical-align: middle;\n",
       "    }\n",
       "\n",
       "    .dataframe tbody tr th {\n",
       "        vertical-align: top;\n",
       "    }\n",
       "\n",
       "    .dataframe thead th {\n",
       "        text-align: right;\n",
       "    }\n",
       "</style>\n",
       "<table border=\"1\" class=\"dataframe\">\n",
       "  <thead>\n",
       "    <tr style=\"text-align: right;\">\n",
       "      <th></th>\n",
       "      <th>popularity</th>\n",
       "      <th>vote_average</th>\n",
       "      <th>vote_count</th>\n",
       "    </tr>\n",
       "  </thead>\n",
       "  <tbody>\n",
       "    <tr>\n",
       "      <th>count</th>\n",
       "      <td>6424.000000</td>\n",
       "      <td>6424.000000</td>\n",
       "      <td>6424.000000</td>\n",
       "    </tr>\n",
       "    <tr>\n",
       "      <th>mean</th>\n",
       "      <td>0.956754</td>\n",
       "      <td>6.283188</td>\n",
       "      <td>3.835928</td>\n",
       "    </tr>\n",
       "    <tr>\n",
       "      <th>std</th>\n",
       "      <td>0.451099</td>\n",
       "      <td>0.595280</td>\n",
       "      <td>3.148488</td>\n",
       "    </tr>\n",
       "    <tr>\n",
       "      <th>min</th>\n",
       "      <td>0.600000</td>\n",
       "      <td>5.200000</td>\n",
       "      <td>1.000000</td>\n",
       "    </tr>\n",
       "    <tr>\n",
       "      <th>25%</th>\n",
       "      <td>0.600000</td>\n",
       "      <td>6.000000</td>\n",
       "      <td>1.000000</td>\n",
       "    </tr>\n",
       "    <tr>\n",
       "      <th>50%</th>\n",
       "      <td>0.711000</td>\n",
       "      <td>6.200000</td>\n",
       "      <td>3.000000</td>\n",
       "    </tr>\n",
       "    <tr>\n",
       "      <th>75%</th>\n",
       "      <td>1.257000</td>\n",
       "      <td>7.000000</td>\n",
       "      <td>5.000000</td>\n",
       "    </tr>\n",
       "    <tr>\n",
       "      <th>max</th>\n",
       "      <td>2.235000</td>\n",
       "      <td>7.300000</td>\n",
       "      <td>13.000000</td>\n",
       "    </tr>\n",
       "  </tbody>\n",
       "</table>\n",
       "</div>"
      ],
      "text/plain": [
       "        popularity  vote_average   vote_count\n",
       "count  6424.000000   6424.000000  6424.000000\n",
       "mean      0.956754      6.283188     3.835928\n",
       "std       0.451099      0.595280     3.148488\n",
       "min       0.600000      5.200000     1.000000\n",
       "25%       0.600000      6.000000     1.000000\n",
       "50%       0.711000      6.200000     3.000000\n",
       "75%       1.257000      7.000000     5.000000\n",
       "max       2.235000      7.300000    13.000000"
      ]
     },
     "execution_count": 346,
     "metadata": {},
     "output_type": "execute_result"
    }
   ],
   "source": [
    "tmdb[[\"popularity\", \"vote_average\", \"vote_count\"]].describe()"
   ]
  },
  {
   "cell_type": "code",
   "execution_count": 347,
   "metadata": {},
   "outputs": [
    {
     "data": {
      "image/png": "[encoded data removed]",
      "text/plain": [
       "<Figure size 576x432 with 1 Axes>"
      ]
     },
     "metadata": {
      "needs_background": "light"
     },
     "output_type": "display_data"
    }
   ],
   "source": [
    "# box plot for popularity\n",
    "plt.figure(figsize=(8, 6))\n",
    "sns.boxplot(x=tmdb['popularity'], color='skyblue')\n",
    "plt.title('Popularity Outliers')\n",
    "plt.xlabel('Popularity')\n",
    "plt.ylabel('Frequency')\n",
    "plt.show();"
   ]
  },
  {
   "cell_type": "code",
   "execution_count": 348,
   "metadata": {},
   "outputs": [
    {
     "data": {
      "image/png": "[encoded data removed]",
      "text/plain": [
       "<Figure size 576x432 with 1 Axes>"
      ]
     },
     "metadata": {
      "needs_background": "light"
     },
     "output_type": "display_data"
    }
   ],
   "source": [
    "# box plot for average votes\n",
    "plt.figure(figsize=(8, 6))\n",
    "sns.boxplot(x=tmdb['vote_average'], color='skyblue')\n",
    "plt.title('Average vote Outliers')\n",
    "plt.xlabel('Avg votes')\n",
    "plt.ylabel('Frequency')\n",
    "plt.show();"
   ]
  },
  {
   "cell_type": "code",
   "execution_count": 349,
   "metadata": {},
   "outputs": [
    {
     "data": {
      "image/png": "[encoded data removed]",
      "text/plain": [
       "<Figure size 576x432 with 1 Axes>"
      ]
     },
     "metadata": {
      "needs_background": "light"
     },
     "output_type": "display_data"
    }
   ],
   "source": [
    "# box plot for vote counts\n",
    "plt.figure(figsize=(8, 6))\n",
    "sns.boxplot(x=tmdb['vote_count'], color='skyblue')\n",
    "plt.title('Vote Counts Outliers')\n",
    "plt.xlabel('Total vote counts')\n",
    "plt.ylabel('Frequency')\n",
    "plt.show();"
   ]
  },
  {
   "cell_type": "markdown",
   "metadata": {},
   "source": [
    "From the Movie DB, which language sells the most?"
   ]
  },
  {
   "cell_type": "code",
   "execution_count": 350,
   "metadata": {},
   "outputs": [
    {
     "data": {
      "text/plain": [
       "en    5677\n",
       "es     131\n",
       "fr      85\n",
       "ru      70\n",
       "de      62\n",
       "ja      48\n",
       "zh      33\n",
       "it      32\n",
       "hi      21\n",
       "ko      18\n",
       "pt      17\n",
       "th      16\n",
       "pl      16\n",
       "da      14\n",
       "he      13\n",
       "xx      13\n",
       "cn      13\n",
       "nl      11\n",
       "no      11\n",
       "te      10\n",
       "sv       9\n",
       "tl       8\n",
       "ar       8\n",
       "fa       8\n",
       "hu       7\n",
       "el       7\n",
       "fi       7\n",
       "ro       5\n",
       "bn       4\n",
       "vi       3\n",
       "lv       3\n",
       "cs       3\n",
       "mr       3\n",
       "ab       3\n",
       "lt       2\n",
       "pa       2\n",
       "bg       2\n",
       "ur       2\n",
       "sn       2\n",
       "is       2\n",
       "hr       2\n",
       "id       2\n",
       "lo       2\n",
       "kn       2\n",
       "sr       2\n",
       "ta       1\n",
       "eu       1\n",
       "uk       1\n",
       "ka       1\n",
       "tr       1\n",
       "cr       1\n",
       "ha       1\n",
       "ps       1\n",
       "sq       1\n",
       "bs       1\n",
       "ml       1\n",
       "et       1\n",
       "gu       1\n",
       "Name: original_language, dtype: int64"
      ]
     },
     "execution_count": 350,
     "metadata": {},
     "output_type": "execute_result"
    }
   ],
   "source": [
    "# lets check how many movies per original language\n",
    "tmdb[\"original_language\"].value_counts()"
   ]
  },
  {
   "cell_type": "code",
   "execution_count": 351,
   "metadata": {},
   "outputs": [
    {
     "data": {
      "image/png": "[encoded data removed]",
      "text/plain": [
       "<Figure size 432x288 with 1 Axes>"
      ]
     },
     "metadata": {
      "needs_background": "light"
     },
     "output_type": "display_data"
    }
   ],
   "source": [
    "language_counts = tmdb[\"original_language\"].value_counts()\n",
    "top_languages = language_counts.head(10)\n",
    "\n",
    "top_languages.plot(kind='bar')\n",
    "plt.title('Top 10 Original Languages in TMDB')\n",
    "plt.xlabel('Language')\n",
    "plt.ylabel('Number of Movies')\n",
    "plt.show();"
   ]
  },
  {
   "cell_type": "markdown",
   "metadata": {},
   "source": [
    "## Recommendation\n",
    "To maximize profits, Microsoft has to produce a lot of English movies than any other language to avoid loses."
   ]
  },
  {
   "cell_type": "markdown",
   "metadata": {},
   "source": [
    "Does Movie count affect popularity? Does vote count also affect popularity?"
   ]
  },
  {
   "cell_type": "code",
   "execution_count": 355,
   "metadata": {},
   "outputs": [
    {
     "data": {
      "image/png": "[encoded data removed]",
      "text/plain": [
       "<Figure size 1080x432 with 3 Axes>"
      ]
     },
     "metadata": {
      "needs_background": "light"
     },
     "output_type": "display_data"
    }
   ],
   "source": [
    "fig, (ax1, ax2, ax3) = plt.subplots(1, 3, figsize=(15, 6))\n",
    "\n",
    "# Plot the line graph for the count of movies per year\n",
    "tmdb[\"year\"].value_counts().plot(kind='line', marker='o', linestyle='-', color='b', ax=ax1)\n",
    "ax1.set_title('Movie Count Over Years')\n",
    "ax1.set_ylabel('Movie Count')\n",
    "\n",
    "# Plot the bar graph for popularity over years\n",
    "ax2.bar(tmdb['year'], tmdb['popularity'], color='w', edgecolor=\"black\", alpha=0.7)\n",
    "ax2.set_title('Popularity Over Years (Bar Graph)')\n",
    "ax2.set_xlabel('Year')\n",
    "ax2.set_ylabel('Popularity')\n",
    "\n",
    "# Plot the bar graph for average votes over years\n",
    "ax3.bar(tmdb['year'], tmdb['vote_count'], color='b', alpha=0.7)\n",
    "ax3.set_title('Total votes Over Years (Bar Graph)')\n",
    "ax3.set_xlabel('Year')\n",
    "ax3.set_ylabel('Votes Count')\n",
    "\n",
    "# Adjust spacing between subplots\n",
    "plt.tight_layout()\n",
    "\n",
    "# Show the combined plot\n",
    "plt.show();\n",
    "\n",
    "# So it possible to conclude that the movies are released in The MovieDB, the more popular The movieDB gets"
   ]
  },
  {
   "cell_type": "code",
   "execution_count": 356,
   "metadata": {},
   "outputs": [
    {
     "data": {
      "text/plain": [
       "0.549394219698477"
      ]
     },
     "execution_count": 356,
     "metadata": {},
     "output_type": "execute_result"
    }
   ],
   "source": [
    "tmdb[\"vote_count\"].corr(tmdb[\"popularity\"])"
   ]
  },
  {
   "cell_type": "markdown",
   "metadata": {},
   "source": [
    "## Recommendation\n",
    "Microsoft should deliver more movies in a year to gain popularity. More movies equals more votes which makes Microsoft more popular."
   ]
  },
  {
   "cell_type": "markdown",
   "metadata": {},
   "source": [
    "## The Movie DB - Conclusion \n",
    "Microsoft can boost its popularity by increasing the number of movies it releases each year. More movies mean more chances for people to watch and enjoy Microsoft's content, leading to greater recognition and support. Additionally, to maximize profits, Microsoft should focus primarily on producing English-language movies. This strategic approach helps mitigate potential losses and ensures a wider audience reach, as English movies tend to have broader international appeal. By aligning their production strategy with audience preferences and market dynamics, Microsoft can enhance both its popularity and profitability in the movie industry."
   ]
  },
  {
   "cell_type": "markdown",
   "metadata": {},
   "source": [
    "# Conclusion\n",
    "Microsoft's success in the movie industry could be boosted by prioritizing international releases over domestic ones. There's a big opportunity to make more money by selling movies to audiences worldwide.\n",
    "\n",
    "Also, teaming up with the top-performing studios, both in the U.S. and abroad, could be a smart move. By partnering with them, Microsoft can tap into their expertise and connections, helping them do better both locally and internationally.\n",
    "\n",
    "Microsoft needs to focus separately on selling movies globally and locally because these markets work independently.\n",
    "\n",
    "The cost of making movies and how often they come out really affect how much money Microsoft makes, both at home and around the world. It's kind of like a gamble – spending a lot on making movies could bring in big profits, but it could also mean losing a lot of money.\n",
    "\n",
    "So, Microsoft has to be smart about how much they spend on making movies and how often they release them. By thinking carefully about the potential rewards and risks, they can increase their chances of doing well while also avoiding big financial problems. This approach understands that making movies is tricky, but it puts Microsoft in a good position to take advantage of opportunities in the movie world.\n",
    "\n",
    "Also, to make the most money, Microsoft should focus more on making movies in English because they're more popular worldwide. And if Microsoft releases more movies in a year, it could make them more famous and liked/voted by people.\n",
    "\n",
    "By thinking about all these things – like where to focus their sales, how much to spend on making movies, and how often to release them – Microsoft can do better in the movie business and become a big name in entertainment."
   ]
  },
  {
   "cell_type": "code",
   "execution_count": null,
   "metadata": {},
   "outputs": [],
   "source": []
  }
 ],
 "metadata": {
  "kernelspec": {
   "display_name": "Python (learn-env)",
   "language": "python",
   "name": "learn-env"
  },
  "language_info": {
   "codemirror_mode": {
    "name": "ipython",
    "version": 3
   },
   "file_extension": ".py",
   "mimetype": "text/x-python",
   "name": "python",
   "nbconvert_exporter": "python",
   "pygments_lexer": "ipython3",
   "version": "3.8.5"
  }
 },
 "nbformat": 4,
 "nbformat_minor": 4
}
